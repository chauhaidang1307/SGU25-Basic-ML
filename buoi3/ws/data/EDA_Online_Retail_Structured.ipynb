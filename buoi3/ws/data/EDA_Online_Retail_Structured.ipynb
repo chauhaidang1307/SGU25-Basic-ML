{
 "cells": [
  {
   "cell_type": "markdown",
   "id": "46739c0f",
   "metadata": {},
   "source": [
    "# 📊 EDA Online Retail\n",
    "Trong notebook này, chúng ta sẽ thực hiện **Exploratory Data Analysis (EDA)** cho bộ dữ liệu **Online Retail**.\n",
    "\n",
    "Các bước chính:\n",
    "1. Import thư viện\n",
    "2. Đọc dữ liệu & tổng quan\n",
    "3. Kiểm tra & xử lý dữ liệu\n",
    "4. Phân tích cơ bản (Country, Product)\n",
    "5. Trực quan hóa dữ liệu (Bar chart, Line chart, Heatmap)"
   ]
  },
  {
   "cell_type": "markdown",
   "id": "c7425416",
   "metadata": {},
   "source": [
    "## 1. Import thư viện"
   ]
  },
  {
   "cell_type": "code",
   "execution_count": null,
   "id": "8066275f",
   "metadata": {},
   "outputs": [],
   "source": [
    "\n",
    "import pandas as pd\n",
    "import numpy as np\n",
    "import matplotlib.pyplot as plt\n",
    "import seaborn as sns\n",
    "\n",
    "plt.style.use(\"seaborn-v0_8\")\n",
    "sns.set_palette(\"Set2\")\n"
   ]
  },
  {
   "cell_type": "markdown",
   "id": "55d85554",
   "metadata": {},
   "source": [
    "## 2. Đọc dữ liệu & tổng quan"
   ]
  },
  {
   "cell_type": "code",
   "execution_count": null,
   "id": "5b112b84",
   "metadata": {},
   "outputs": [],
   "source": [
    "\n",
    "file_path = \"Online Retail.xlsx\"  # thay bằng đường dẫn file bạn giải nén\n",
    "df = pd.read_excel(file_path)\n",
    "\n",
    "print(\"📌 Kích thước dataset:\", df.shape)\n",
    "print(\"\\n📌 Thông tin dữ liệu:\")\n",
    "print(df.info())\n",
    "print(\"\\n📌 5 dòng đầu:\")\n",
    "print(df.head())\n"
   ]
  },
  {
   "cell_type": "markdown",
   "id": "eb3a10e3",
   "metadata": {},
   "source": [
    "## 3. Kiểm tra & xử lý dữ liệu"
   ]
  },
  {
   "cell_type": "code",
   "execution_count": null,
   "id": "5a8bfcc6",
   "metadata": {},
   "outputs": [],
   "source": [
    "\n",
    "print(\"\\n📌 Số lượng missing values:\")\n",
    "print(df.isnull().sum())\n",
    "\n",
    "# Xóa dòng thiếu CustomerID\n",
    "df = df.dropna(subset=['CustomerID'])\n",
    "\n",
    "# Loại bỏ giá trị Quantity <= 0 hoặc UnitPrice <= 0\n",
    "df = df[(df['Quantity'] > 0) & (df['UnitPrice'] > 0)]\n",
    "\n",
    "# Thêm cột Doanh thu\n",
    "df['TotalPrice'] = df['Quantity'] * df['UnitPrice']\n"
   ]
  },
  {
   "cell_type": "markdown",
   "id": "ed43469c",
   "metadata": {},
   "source": [
    "## 4. Phân tích cơ bản"
   ]
  },
  {
   "cell_type": "code",
   "execution_count": null,
   "id": "0c996225",
   "metadata": {},
   "outputs": [],
   "source": [
    "\n",
    "print(\"\\n📌 Top 10 quốc gia có nhiều đơn hàng nhất:\")\n",
    "print(df['Country'].value_counts().head(10))\n",
    "\n",
    "print(\"\\n📌 Top 10 sản phẩm bán nhiều nhất:\")\n",
    "print(df.groupby('Description')['Quantity'].sum().sort_values(ascending=False).head(10))\n"
   ]
  },
  {
   "cell_type": "markdown",
   "id": "56ea7668",
   "metadata": {},
   "source": [
    "## 5. Trực quan hóa dữ liệu"
   ]
  },
  {
   "cell_type": "code",
   "execution_count": null,
   "id": "ff8b8822",
   "metadata": {},
   "outputs": [],
   "source": [
    "\n",
    "top_countries = df[df['Country'] != 'United Kingdom']['Country'].value_counts().head(10)\n",
    "plt.figure(figsize=(10,5))\n",
    "sns.barplot(x=top_countries.values, y=top_countries.index)\n",
    "plt.title(\"Top 10 quốc gia (ngoại trừ UK)\")\n",
    "plt.xlabel(\"Số lượng đơn hàng\")\n",
    "plt.ylabel(\"Quốc gia\")\n",
    "plt.show()\n"
   ]
  },
  {
   "cell_type": "code",
   "execution_count": null,
   "id": "0b94355f",
   "metadata": {},
   "outputs": [],
   "source": [
    "\n",
    "df['InvoiceDate'] = pd.to_datetime(df['InvoiceDate'])\n",
    "df['Month'] = df['InvoiceDate'].dt.to_period('M')\n",
    "\n",
    "monthly_revenue = df.groupby('Month')['TotalPrice'].sum()\n",
    "\n",
    "plt.figure(figsize=(12,6))\n",
    "monthly_revenue.plot(kind='line', marker='o')\n",
    "plt.title(\"Doanh thu theo tháng\")\n",
    "plt.xlabel(\"Tháng\")\n",
    "plt.ylabel(\"Doanh thu (£)\")\n",
    "plt.grid(True)\n",
    "plt.show()\n"
   ]
  },
  {
   "cell_type": "code",
   "execution_count": null,
   "id": "39f7b21a",
   "metadata": {},
   "outputs": [],
   "source": [
    "\n",
    "pivot_country_month = df.pivot_table(index='Country', columns='Month', values='TotalPrice', aggfunc='sum').fillna(0)\n",
    "\n",
    "plt.figure(figsize=(15,8))\n",
    "sns.heatmap(pivot_country_month, cmap=\"YlGnBu\", cbar_kws={'label': 'Doanh thu (£)'})\n",
    "plt.title(\"Heatmap Doanh thu theo Quốc gia và Tháng\")\n",
    "plt.show()\n"
   ]
  }
 ],
 "metadata": {},
 "nbformat": 4,
 "nbformat_minor": 5
}
