{
 "cells": [
  {
   "cell_type": "markdown",
   "id": "b12d7ac8",
   "metadata": {},
   "source": [
    "# Nội dung:"
   ]
  },
  {
   "cell_type": "markdown",
   "id": "8e3c8b83",
   "metadata": {},
   "source": [
    "Khám phá và xử lý dữ liệu Marketing Campaign"
   ]
  },
  {
   "cell_type": "markdown",
   "id": "d7705e18",
   "metadata": {},
   "source": [
    "### Import thư viện cần thiết:"
   ]
  },
  {
   "cell_type": "code",
   "execution_count": 94,
   "id": "b3957487",
   "metadata": {},
   "outputs": [],
   "source": [
    "import pandas as pd"
   ]
  },
  {
   "cell_type": "markdown",
   "id": "4353d95f",
   "metadata": {},
   "source": [
    "### Load dữ liệu"
   ]
  },
  {
   "cell_type": "code",
   "execution_count": 95,
   "id": "6b73a8c1",
   "metadata": {},
   "outputs": [],
   "source": [
    "df = pd.read_csv(\"../data/marketing_campaign.csv\", sep = '\\t')\n",
    "df = df[['ID','Year_Birth','Education','Marital_Status','Income','Kidhome','Teenhome','Dt_Customer','Recency','NumStorePurchases','NumWebVisitsMonth']]"
   ]
  },
  {
   "cell_type": "markdown",
   "id": "02a0bcfe",
   "metadata": {},
   "source": [
    "### Khảo sát dữ liệu"
   ]
  },
  {
   "cell_type": "code",
   "execution_count": 96,
   "id": "6b215705",
   "metadata": {},
   "outputs": [
    {
     "data": {
      "text/html": [
       "<div>\n",
       "<style scoped>\n",
       "    .dataframe tbody tr th:only-of-type {\n",
       "        vertical-align: middle;\n",
       "    }\n",
       "\n",
       "    .dataframe tbody tr th {\n",
       "        vertical-align: top;\n",
       "    }\n",
       "\n",
       "    .dataframe thead th {\n",
       "        text-align: right;\n",
       "    }\n",
       "</style>\n",
       "<table border=\"1\" class=\"dataframe\">\n",
       "  <thead>\n",
       "    <tr style=\"text-align: right;\">\n",
       "      <th></th>\n",
       "      <th>ID</th>\n",
       "      <th>Year_Birth</th>\n",
       "      <th>Education</th>\n",
       "      <th>Marital_Status</th>\n",
       "      <th>Income</th>\n",
       "      <th>Kidhome</th>\n",
       "      <th>Teenhome</th>\n",
       "      <th>Dt_Customer</th>\n",
       "      <th>Recency</th>\n",
       "      <th>NumStorePurchases</th>\n",
       "      <th>NumWebVisitsMonth</th>\n",
       "    </tr>\n",
       "  </thead>\n",
       "  <tbody>\n",
       "    <tr>\n",
       "      <th>0</th>\n",
       "      <td>5524</td>\n",
       "      <td>1957</td>\n",
       "      <td>Graduation</td>\n",
       "      <td>Single</td>\n",
       "      <td>58138.0</td>\n",
       "      <td>0</td>\n",
       "      <td>0</td>\n",
       "      <td>04-09-2012</td>\n",
       "      <td>58</td>\n",
       "      <td>4</td>\n",
       "      <td>7</td>\n",
       "    </tr>\n",
       "    <tr>\n",
       "      <th>1</th>\n",
       "      <td>2174</td>\n",
       "      <td>1954</td>\n",
       "      <td>Graduation</td>\n",
       "      <td>Single</td>\n",
       "      <td>46344.0</td>\n",
       "      <td>1</td>\n",
       "      <td>1</td>\n",
       "      <td>08-03-2014</td>\n",
       "      <td>38</td>\n",
       "      <td>2</td>\n",
       "      <td>5</td>\n",
       "    </tr>\n",
       "    <tr>\n",
       "      <th>2</th>\n",
       "      <td>4141</td>\n",
       "      <td>1965</td>\n",
       "      <td>Graduation</td>\n",
       "      <td>Together</td>\n",
       "      <td>71613.0</td>\n",
       "      <td>0</td>\n",
       "      <td>0</td>\n",
       "      <td>21-08-2013</td>\n",
       "      <td>26</td>\n",
       "      <td>10</td>\n",
       "      <td>4</td>\n",
       "    </tr>\n",
       "    <tr>\n",
       "      <th>3</th>\n",
       "      <td>6182</td>\n",
       "      <td>1984</td>\n",
       "      <td>Graduation</td>\n",
       "      <td>Together</td>\n",
       "      <td>26646.0</td>\n",
       "      <td>1</td>\n",
       "      <td>0</td>\n",
       "      <td>10-02-2014</td>\n",
       "      <td>26</td>\n",
       "      <td>4</td>\n",
       "      <td>6</td>\n",
       "    </tr>\n",
       "    <tr>\n",
       "      <th>4</th>\n",
       "      <td>5324</td>\n",
       "      <td>1981</td>\n",
       "      <td>PhD</td>\n",
       "      <td>Married</td>\n",
       "      <td>58293.0</td>\n",
       "      <td>1</td>\n",
       "      <td>0</td>\n",
       "      <td>19-01-2014</td>\n",
       "      <td>94</td>\n",
       "      <td>6</td>\n",
       "      <td>5</td>\n",
       "    </tr>\n",
       "  </tbody>\n",
       "</table>\n",
       "</div>"
      ],
      "text/plain": [
       "     ID  Year_Birth   Education Marital_Status   Income  Kidhome  Teenhome  \\\n",
       "0  5524        1957  Graduation         Single  58138.0        0         0   \n",
       "1  2174        1954  Graduation         Single  46344.0        1         1   \n",
       "2  4141        1965  Graduation       Together  71613.0        0         0   \n",
       "3  6182        1984  Graduation       Together  26646.0        1         0   \n",
       "4  5324        1981         PhD        Married  58293.0        1         0   \n",
       "\n",
       "  Dt_Customer  Recency  NumStorePurchases  NumWebVisitsMonth  \n",
       "0  04-09-2012       58                  4                  7  \n",
       "1  08-03-2014       38                  2                  5  \n",
       "2  21-08-2013       26                 10                  4  \n",
       "3  10-02-2014       26                  4                  6  \n",
       "4  19-01-2014       94                  6                  5  "
      ]
     },
     "execution_count": 96,
     "metadata": {},
     "output_type": "execute_result"
    }
   ],
   "source": [
    "df.head(5)"
   ]
  },
  {
   "cell_type": "markdown",
   "id": "8241c736",
   "metadata": {},
   "source": [
    "## Loại bỏ dữ liệu trùng lặp"
   ]
  },
  {
   "cell_type": "markdown",
   "id": "0a58d4d4",
   "metadata": {},
   "source": [
    "### Loại bỏ giá trị trùng lặp"
   ]
  },
  {
   "cell_type": "code",
   "execution_count": 97,
   "id": "47728663",
   "metadata": {},
   "outputs": [],
   "source": [
    "df_dupe = df.drop_duplicates()"
   ]
  },
  {
   "cell_type": "markdown",
   "id": "e4762621",
   "metadata": {},
   "source": [
    "### Xóa hàng ở vị trí index = x"
   ]
  },
  {
   "cell_type": "code",
   "execution_count": 98,
   "id": "765dd861",
   "metadata": {},
   "outputs": [
    {
     "data": {
      "text/html": [
       "<div>\n",
       "<style scoped>\n",
       "    .dataframe tbody tr th:only-of-type {\n",
       "        vertical-align: middle;\n",
       "    }\n",
       "\n",
       "    .dataframe tbody tr th {\n",
       "        vertical-align: top;\n",
       "    }\n",
       "\n",
       "    .dataframe thead th {\n",
       "        text-align: right;\n",
       "    }\n",
       "</style>\n",
       "<table border=\"1\" class=\"dataframe\">\n",
       "  <thead>\n",
       "    <tr style=\"text-align: right;\">\n",
       "      <th></th>\n",
       "      <th>ID</th>\n",
       "      <th>Year_Birth</th>\n",
       "      <th>Education</th>\n",
       "      <th>Marital_Status</th>\n",
       "      <th>Income</th>\n",
       "      <th>Kidhome</th>\n",
       "      <th>Teenhome</th>\n",
       "      <th>Dt_Customer</th>\n",
       "      <th>Recency</th>\n",
       "      <th>NumStorePurchases</th>\n",
       "      <th>NumWebVisitsMonth</th>\n",
       "    </tr>\n",
       "  </thead>\n",
       "  <tbody>\n",
       "    <tr>\n",
       "      <th>0</th>\n",
       "      <td>5524</td>\n",
       "      <td>1957</td>\n",
       "      <td>Graduation</td>\n",
       "      <td>Single</td>\n",
       "      <td>58138.0</td>\n",
       "      <td>0</td>\n",
       "      <td>0</td>\n",
       "      <td>04-09-2012</td>\n",
       "      <td>58</td>\n",
       "      <td>4</td>\n",
       "      <td>7</td>\n",
       "    </tr>\n",
       "    <tr>\n",
       "      <th>2</th>\n",
       "      <td>4141</td>\n",
       "      <td>1965</td>\n",
       "      <td>Graduation</td>\n",
       "      <td>Together</td>\n",
       "      <td>71613.0</td>\n",
       "      <td>0</td>\n",
       "      <td>0</td>\n",
       "      <td>21-08-2013</td>\n",
       "      <td>26</td>\n",
       "      <td>10</td>\n",
       "      <td>4</td>\n",
       "    </tr>\n",
       "    <tr>\n",
       "      <th>3</th>\n",
       "      <td>6182</td>\n",
       "      <td>1984</td>\n",
       "      <td>Graduation</td>\n",
       "      <td>Together</td>\n",
       "      <td>26646.0</td>\n",
       "      <td>1</td>\n",
       "      <td>0</td>\n",
       "      <td>10-02-2014</td>\n",
       "      <td>26</td>\n",
       "      <td>4</td>\n",
       "      <td>6</td>\n",
       "    </tr>\n",
       "    <tr>\n",
       "      <th>4</th>\n",
       "      <td>5324</td>\n",
       "      <td>1981</td>\n",
       "      <td>PhD</td>\n",
       "      <td>Married</td>\n",
       "      <td>58293.0</td>\n",
       "      <td>1</td>\n",
       "      <td>0</td>\n",
       "      <td>19-01-2014</td>\n",
       "      <td>94</td>\n",
       "      <td>6</td>\n",
       "      <td>5</td>\n",
       "    </tr>\n",
       "    <tr>\n",
       "      <th>5</th>\n",
       "      <td>7446</td>\n",
       "      <td>1967</td>\n",
       "      <td>Master</td>\n",
       "      <td>Together</td>\n",
       "      <td>62513.0</td>\n",
       "      <td>0</td>\n",
       "      <td>1</td>\n",
       "      <td>09-09-2013</td>\n",
       "      <td>16</td>\n",
       "      <td>10</td>\n",
       "      <td>6</td>\n",
       "    </tr>\n",
       "  </tbody>\n",
       "</table>\n",
       "</div>"
      ],
      "text/plain": [
       "     ID  Year_Birth   Education Marital_Status   Income  Kidhome  Teenhome  \\\n",
       "0  5524        1957  Graduation         Single  58138.0        0         0   \n",
       "2  4141        1965  Graduation       Together  71613.0        0         0   \n",
       "3  6182        1984  Graduation       Together  26646.0        1         0   \n",
       "4  5324        1981         PhD        Married  58293.0        1         0   \n",
       "5  7446        1967      Master       Together  62513.0        0         1   \n",
       "\n",
       "  Dt_Customer  Recency  NumStorePurchases  NumWebVisitsMonth  \n",
       "0  04-09-2012       58                  4                  7  \n",
       "2  21-08-2013       26                 10                  4  \n",
       "3  10-02-2014       26                  4                  6  \n",
       "4  19-01-2014       94                  6                  5  \n",
       "5  09-09-2013       16                 10                  6  "
      ]
     },
     "execution_count": 98,
     "metadata": {},
     "output_type": "execute_result"
    }
   ],
   "source": [
    "temp = df.drop(labels=[1],axis=0)\n",
    "temp.head(5)"
   ]
  },
  {
   "cell_type": "markdown",
   "id": "cc953fa2",
   "metadata": {},
   "source": [
    "## Thay thế dữ liệu và thay đổi định dạng của dữ liệu"
   ]
  },
  {
   "cell_type": "markdown",
   "id": "114759c4",
   "metadata": {},
   "source": [
    "### Xóa cột ở vị trí có index = x"
   ]
  },
  {
   "cell_type": "code",
   "execution_count": 99,
   "id": "bf2c4830",
   "metadata": {},
   "outputs": [
    {
     "data": {
      "text/html": [
       "<div>\n",
       "<style scoped>\n",
       "    .dataframe tbody tr th:only-of-type {\n",
       "        vertical-align: middle;\n",
       "    }\n",
       "\n",
       "    .dataframe tbody tr th {\n",
       "        vertical-align: top;\n",
       "    }\n",
       "\n",
       "    .dataframe thead th {\n",
       "        text-align: right;\n",
       "    }\n",
       "</style>\n",
       "<table border=\"1\" class=\"dataframe\">\n",
       "  <thead>\n",
       "    <tr style=\"text-align: right;\">\n",
       "      <th></th>\n",
       "      <th>ID</th>\n",
       "      <th>Education</th>\n",
       "      <th>Marital_Status</th>\n",
       "      <th>Income</th>\n",
       "      <th>Kidhome</th>\n",
       "      <th>Teenhome</th>\n",
       "      <th>Dt_Customer</th>\n",
       "      <th>Recency</th>\n",
       "      <th>NumStorePurchases</th>\n",
       "      <th>NumWebVisitsMonth</th>\n",
       "    </tr>\n",
       "  </thead>\n",
       "  <tbody>\n",
       "    <tr>\n",
       "      <th>0</th>\n",
       "      <td>5524</td>\n",
       "      <td>Graduation</td>\n",
       "      <td>Single</td>\n",
       "      <td>58138.0</td>\n",
       "      <td>0</td>\n",
       "      <td>0</td>\n",
       "      <td>04-09-2012</td>\n",
       "      <td>58</td>\n",
       "      <td>4</td>\n",
       "      <td>7</td>\n",
       "    </tr>\n",
       "    <tr>\n",
       "      <th>1</th>\n",
       "      <td>2174</td>\n",
       "      <td>Graduation</td>\n",
       "      <td>Single</td>\n",
       "      <td>46344.0</td>\n",
       "      <td>1</td>\n",
       "      <td>1</td>\n",
       "      <td>08-03-2014</td>\n",
       "      <td>38</td>\n",
       "      <td>2</td>\n",
       "      <td>5</td>\n",
       "    </tr>\n",
       "    <tr>\n",
       "      <th>2</th>\n",
       "      <td>4141</td>\n",
       "      <td>Graduation</td>\n",
       "      <td>Together</td>\n",
       "      <td>71613.0</td>\n",
       "      <td>0</td>\n",
       "      <td>0</td>\n",
       "      <td>21-08-2013</td>\n",
       "      <td>26</td>\n",
       "      <td>10</td>\n",
       "      <td>4</td>\n",
       "    </tr>\n",
       "    <tr>\n",
       "      <th>3</th>\n",
       "      <td>6182</td>\n",
       "      <td>Graduation</td>\n",
       "      <td>Together</td>\n",
       "      <td>26646.0</td>\n",
       "      <td>1</td>\n",
       "      <td>0</td>\n",
       "      <td>10-02-2014</td>\n",
       "      <td>26</td>\n",
       "      <td>4</td>\n",
       "      <td>6</td>\n",
       "    </tr>\n",
       "    <tr>\n",
       "      <th>4</th>\n",
       "      <td>5324</td>\n",
       "      <td>PhD</td>\n",
       "      <td>Married</td>\n",
       "      <td>58293.0</td>\n",
       "      <td>1</td>\n",
       "      <td>0</td>\n",
       "      <td>19-01-2014</td>\n",
       "      <td>94</td>\n",
       "      <td>6</td>\n",
       "      <td>5</td>\n",
       "    </tr>\n",
       "  </tbody>\n",
       "</table>\n",
       "</div>"
      ],
      "text/plain": [
       "     ID   Education Marital_Status   Income  Kidhome  Teenhome Dt_Customer  \\\n",
       "0  5524  Graduation         Single  58138.0        0         0  04-09-2012   \n",
       "1  2174  Graduation         Single  46344.0        1         1  08-03-2014   \n",
       "2  4141  Graduation       Together  71613.0        0         0  21-08-2013   \n",
       "3  6182  Graduation       Together  26646.0        1         0  10-02-2014   \n",
       "4  5324         PhD        Married  58293.0        1         0  19-01-2014   \n",
       "\n",
       "   Recency  NumStorePurchases  NumWebVisitsMonth  \n",
       "0       58                  4                  7  \n",
       "1       38                  2                  5  \n",
       "2       26                 10                  4  \n",
       "3       26                  4                  6  \n",
       "4       94                  6                  5  "
      ]
     },
     "execution_count": 99,
     "metadata": {},
     "output_type": "execute_result"
    }
   ],
   "source": [
    "temp = df.drop(labels=['Year_Birth'],axis=1)\n",
    "temp.head(5)"
   ]
  },
  {
   "cell_type": "markdown",
   "id": "b7e39056",
   "metadata": {},
   "source": [
    "### Thay đổi dữ liệu"
   ]
  },
  {
   "cell_type": "code",
   "execution_count": 100,
   "id": "eaeae30b",
   "metadata": {},
   "outputs": [
    {
     "data": {
      "text/plain": [
       "0       0\n",
       "1       1\n",
       "2       0\n",
       "3       0\n",
       "4       0\n",
       "       ..\n",
       "2235    1\n",
       "2236    1\n",
       "2237    0\n",
       "2238    1\n",
       "2239    1\n",
       "Name: Teenhome, Length: 2240, dtype: int64"
      ]
     },
     "execution_count": 100,
     "metadata": {},
     "output_type": "execute_result"
    }
   ],
   "source": [
    "df['Teenhome']"
   ]
  },
  {
   "cell_type": "code",
   "execution_count": 101,
   "id": "b3416125",
   "metadata": {},
   "outputs": [
    {
     "data": {
      "text/plain": [
       "0       has no teen\n",
       "1          has teen\n",
       "2       has no teen\n",
       "3       has no teen\n",
       "4       has no teen\n",
       "           ...     \n",
       "2235       has teen\n",
       "2236       has teen\n",
       "2237    has no teen\n",
       "2238       has teen\n",
       "2239       has teen\n",
       "Name: Teenhome, Length: 2240, dtype: object"
      ]
     },
     "execution_count": 101,
     "metadata": {},
     "output_type": "execute_result"
    }
   ],
   "source": [
    "df['Teenhome'] = df['Teenhome'].replace([0,1],['has no teen','has teen'])\n",
    "df['Teenhome']"
   ]
  },
  {
   "cell_type": "code",
   "execution_count": 102,
   "id": "e0d0a4e5",
   "metadata": {},
   "outputs": [
    {
     "data": {
      "text/plain": [
       "Income\n",
       "False    2216\n",
       "True       24\n",
       "Name: count, dtype: int64"
      ]
     },
     "execution_count": 102,
     "metadata": {},
     "output_type": "execute_result"
    }
   ],
   "source": [
    "df['Income'].isna().value_counts()"
   ]
  },
  {
   "cell_type": "markdown",
   "id": "3bc70204",
   "metadata": {},
   "source": [
    "### Lắp các dữ liệu NaN ở cột Income"
   ]
  },
  {
   "cell_type": "code",
   "execution_count": 103,
   "id": "7db5b202",
   "metadata": {},
   "outputs": [
    {
     "data": {
      "text/plain": [
       "np.int64(0)"
      ]
     },
     "execution_count": 103,
     "metadata": {},
     "output_type": "execute_result"
    }
   ],
   "source": [
    "df['Income'] = df['Income'].fillna(0)\n",
    "df['Income'].isna().sum()"
   ]
  },
  {
   "cell_type": "markdown",
   "id": "95a0d8a3",
   "metadata": {},
   "source": [
    "### Thay đổi kiểu dữ liệu"
   ]
  },
  {
   "cell_type": "code",
   "execution_count": 104,
   "id": "bce93e81",
   "metadata": {},
   "outputs": [
    {
     "data": {
      "text/plain": [
       "<bound method Series.info of 0       58138\n",
       "1       46344\n",
       "2       71613\n",
       "3       26646\n",
       "4       58293\n",
       "        ...  \n",
       "2235    61223\n",
       "2236    64014\n",
       "2237    56981\n",
       "2238    69245\n",
       "2239    52869\n",
       "Name: Income_changed, Length: 2240, dtype: int64>"
      ]
     },
     "execution_count": 104,
     "metadata": {},
     "output_type": "execute_result"
    }
   ],
   "source": [
    "df['Income_changed'] = df['Income'].astype(int)\n",
    "df['Income_changed'].info"
   ]
  },
  {
   "cell_type": "markdown",
   "id": "850341ff",
   "metadata": {},
   "source": [
    "## Xử lý dữ liệu thiếu"
   ]
  },
  {
   "cell_type": "markdown",
   "id": "9484c0df",
   "metadata": {},
   "source": [
    "### Kiểm tra dữ liệu thiếu"
   ]
  },
  {
   "cell_type": "code",
   "execution_count": 106,
   "id": "a20b6368",
   "metadata": {},
   "outputs": [
    {
     "data": {
      "text/plain": [
       "ID                    0\n",
       "Year_Birth            0\n",
       "Education             0\n",
       "Marital_Status        0\n",
       "Income               24\n",
       "Kidhome               0\n",
       "Teenhome              0\n",
       "Dt_Customer           0\n",
       "Recency               0\n",
       "NumStorePurchases     0\n",
       "NumWebVisitsMonth     0\n",
       "dtype: int64"
      ]
     },
     "execution_count": 106,
     "metadata": {},
     "output_type": "execute_result"
    }
   ],
   "source": [
    "df_again = pd.read_csv(\"../data/marketing_campaign.csv\", sep = '\\t')\n",
    "df_again = df_again[['ID','Year_Birth','Education','Marital_Status','Income','Kidhome','Teenhome','Dt_Customer','Recency','NumStorePurchases','NumWebVisitsMonth']]\n",
    "df_again.isnull().sum()"
   ]
  },
  {
   "cell_type": "markdown",
   "id": "65f3a609",
   "metadata": {},
   "source": [
    "### Xóa cột sử dụng phương thức dropna"
   ]
  },
  {
   "cell_type": "code",
   "execution_count": 107,
   "id": "f8440a66",
   "metadata": {},
   "outputs": [
    {
     "data": {
      "text/plain": [
       "(2216, 11)"
      ]
     },
     "execution_count": 107,
     "metadata": {},
     "output_type": "execute_result"
    }
   ],
   "source": [
    "df_again_withoutnan = df_again.dropna(how='any')\n",
    "df_again_withoutnan.shape"
   ]
  },
  {
   "cell_type": "markdown",
   "id": "bb6ae44d",
   "metadata": {},
   "source": [
    "# Kết thúc"
   ]
  }
 ],
 "metadata": {
  "kernelspec": {
   "display_name": "Python 3",
   "language": "python",
   "name": "python3"
  },
  "language_info": {
   "codemirror_mode": {
    "name": "ipython",
    "version": 3
   },
   "file_extension": ".py",
   "mimetype": "text/x-python",
   "name": "python",
   "nbconvert_exporter": "python",
   "pygments_lexer": "ipython3",
   "version": "3.12.10"
  }
 },
 "nbformat": 4,
 "nbformat_minor": 5
}
