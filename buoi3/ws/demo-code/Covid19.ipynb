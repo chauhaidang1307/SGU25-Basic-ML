{
 "cells": [
  {
   "cell_type": "markdown",
   "id": "42c210be",
   "metadata": {},
   "source": [
    "## Nội dung:"
   ]
  },
  {
   "cell_type": "markdown",
   "id": "92cd4ffc",
   "metadata": {},
   "source": [
    " Tính mean, median, mode, variance, standard deviation, range, percentile, quartile, interquartile range (IQR) sử dụng thư viện numpy và stats trên tập dữ liệu COVID."
   ]
  },
  {
   "cell_type": "markdown",
   "id": "c4aece0b",
   "metadata": {},
   "source": [
    "## Bài làm:"
   ]
  },
  {
   "cell_type": "markdown",
   "id": "f521c835",
   "metadata": {},
   "source": [
    "import thư viện cần thiết"
   ]
  },
  {
   "cell_type": "code",
   "execution_count": 165,
   "id": "f6ec8fb9",
   "metadata": {},
   "outputs": [],
   "source": [
    "import numpy as np\n",
    "import pandas as pd\n",
    "from scipy import stats"
   ]
  },
  {
   "cell_type": "markdown",
   "id": "6004d695",
   "metadata": {},
   "source": [
    "load data"
   ]
  },
  {
   "cell_type": "code",
   "execution_count": 166,
   "id": "8e94243c",
   "metadata": {},
   "outputs": [
    {
     "data": {
      "text/html": [
       "<div>\n",
       "<style scoped>\n",
       "    .dataframe tbody tr th:only-of-type {\n",
       "        vertical-align: middle;\n",
       "    }\n",
       "\n",
       "    .dataframe tbody tr th {\n",
       "        vertical-align: top;\n",
       "    }\n",
       "\n",
       "    .dataframe thead th {\n",
       "        text-align: right;\n",
       "    }\n",
       "</style>\n",
       "<table border=\"1\" class=\"dataframe\">\n",
       "  <thead>\n",
       "    <tr style=\"text-align: right;\">\n",
       "      <th></th>\n",
       "      <th>iso_code</th>\n",
       "      <th>continent</th>\n",
       "      <th>location</th>\n",
       "      <th>date</th>\n",
       "      <th>total_cases</th>\n",
       "      <th>new_cases</th>\n",
       "    </tr>\n",
       "  </thead>\n",
       "  <tbody>\n",
       "    <tr>\n",
       "      <th>0</th>\n",
       "      <td>AFG</td>\n",
       "      <td>Asia</td>\n",
       "      <td>Afghanistan</td>\n",
       "      <td>2020-01-05</td>\n",
       "      <td>0.0</td>\n",
       "      <td>0.0</td>\n",
       "    </tr>\n",
       "    <tr>\n",
       "      <th>1</th>\n",
       "      <td>AFG</td>\n",
       "      <td>Asia</td>\n",
       "      <td>Afghanistan</td>\n",
       "      <td>2020-01-06</td>\n",
       "      <td>0.0</td>\n",
       "      <td>0.0</td>\n",
       "    </tr>\n",
       "    <tr>\n",
       "      <th>2</th>\n",
       "      <td>AFG</td>\n",
       "      <td>Asia</td>\n",
       "      <td>Afghanistan</td>\n",
       "      <td>2020-01-07</td>\n",
       "      <td>0.0</td>\n",
       "      <td>0.0</td>\n",
       "    </tr>\n",
       "    <tr>\n",
       "      <th>3</th>\n",
       "      <td>AFG</td>\n",
       "      <td>Asia</td>\n",
       "      <td>Afghanistan</td>\n",
       "      <td>2020-01-08</td>\n",
       "      <td>0.0</td>\n",
       "      <td>0.0</td>\n",
       "    </tr>\n",
       "    <tr>\n",
       "      <th>4</th>\n",
       "      <td>AFG</td>\n",
       "      <td>Asia</td>\n",
       "      <td>Afghanistan</td>\n",
       "      <td>2020-01-09</td>\n",
       "      <td>0.0</td>\n",
       "      <td>0.0</td>\n",
       "    </tr>\n",
       "  </tbody>\n",
       "</table>\n",
       "</div>"
      ],
      "text/plain": [
       "  iso_code continent     location        date  total_cases  new_cases\n",
       "0      AFG      Asia  Afghanistan  2020-01-05          0.0        0.0\n",
       "1      AFG      Asia  Afghanistan  2020-01-06          0.0        0.0\n",
       "2      AFG      Asia  Afghanistan  2020-01-07          0.0        0.0\n",
       "3      AFG      Asia  Afghanistan  2020-01-08          0.0        0.0\n",
       "4      AFG      Asia  Afghanistan  2020-01-09          0.0        0.0"
      ]
     },
     "execution_count": 166,
     "metadata": {},
     "output_type": "execute_result"
    }
   ],
   "source": [
    "covid_data = pd.read_csv(\"../data/covid-data.csv\")\n",
    "covid_data = covid_data[['iso_code','continent','location','date','total_cases','new_cases']]\n",
    "#Xem dữ liệu\n",
    "covid_data.head(5)"
   ]
  },
  {
   "cell_type": "code",
   "execution_count": 167,
   "id": "88f99c94",
   "metadata": {},
   "outputs": [
    {
     "data": {
      "text/plain": [
       "iso_code        object\n",
       "continent       object\n",
       "location        object\n",
       "date            object\n",
       "total_cases    float64\n",
       "new_cases      float64\n",
       "dtype: object"
      ]
     },
     "execution_count": 167,
     "metadata": {},
     "output_type": "execute_result"
    }
   ],
   "source": [
    "#Kiểu dữ liệu\n",
    "covid_data.dtypes"
   ]
  },
  {
   "cell_type": "code",
   "execution_count": 168,
   "id": "4fafcb3f",
   "metadata": {},
   "outputs": [
    {
     "data": {
      "text/plain": [
       "(429435, 6)"
      ]
     },
     "execution_count": 168,
     "metadata": {},
     "output_type": "execute_result"
    }
   ],
   "source": [
    "#Số dòng và số cột\n",
    "covid_data.shape"
   ]
  },
  {
   "cell_type": "markdown",
   "id": "be205d92",
   "metadata": {},
   "source": [
    "Kiểm tra NaN"
   ]
  },
  {
   "cell_type": "code",
   "execution_count": 169,
   "id": "b4d974d9",
   "metadata": {},
   "outputs": [
    {
     "data": {
      "text/plain": [
       "iso_code           0\n",
       "continent      26525\n",
       "location           0\n",
       "date               0\n",
       "total_cases    17631\n",
       "new_cases      19276\n",
       "dtype: int64"
      ]
     },
     "execution_count": 169,
     "metadata": {},
     "output_type": "execute_result"
    }
   ],
   "source": [
    "covid_data.isna().sum()"
   ]
  },
  {
   "cell_type": "code",
   "execution_count": 170,
   "id": "2f26fe18",
   "metadata": {},
   "outputs": [
    {
     "data": {
      "text/plain": [
       "iso_code       0\n",
       "continent      0\n",
       "location       0\n",
       "date           0\n",
       "total_cases    0\n",
       "new_cases      0\n",
       "dtype: int64"
      ]
     },
     "execution_count": 170,
     "metadata": {},
     "output_type": "execute_result"
    }
   ],
   "source": [
    "covid_data.fillna(0,inplace=True)\n",
    "covid_data.isna().sum()"
   ]
  },
  {
   "cell_type": "markdown",
   "id": "6e8c855f",
   "metadata": {},
   "source": [
    "### Mean"
   ]
  },
  {
   "cell_type": "code",
   "execution_count": 172,
   "id": "4e8acd65",
   "metadata": {},
   "outputs": [
    {
     "name": "stdout",
     "output_type": "stream",
     "text": [
      "Giá trị trung bình: 7657.48561016219\n"
     ]
    }
   ],
   "source": [
    "# Get the mean of the data\n",
    "data_mean = np.mean(covid_data[\"new_cases\"])\n",
    "print(f\"Giá trị trung bình: {data_mean}\")"
   ]
  },
  {
   "cell_type": "markdown",
   "id": "5f123d10",
   "metadata": {},
   "source": [
    "### Median"
   ]
  },
  {
   "cell_type": "code",
   "execution_count": 173,
   "id": "db341ff6",
   "metadata": {},
   "outputs": [
    {
     "data": {
      "text/plain": [
       "np.float64(0.0)"
      ]
     },
     "execution_count": 173,
     "metadata": {},
     "output_type": "execute_result"
    }
   ],
   "source": [
    "data_median = np.median(covid_data[\"new_cases\"])\n",
    "data_median"
   ]
  },
  {
   "cell_type": "markdown",
   "id": "c19f4cc7",
   "metadata": {},
   "source": [
    "### Mode"
   ]
  },
  {
   "cell_type": "code",
   "execution_count": 174,
   "id": "c3cb7acb",
   "metadata": {},
   "outputs": [
    {
     "data": {
      "text/plain": [
       "ModeResult(mode=np.float64(0.0), count=np.int64(387661))"
      ]
     },
     "execution_count": 174,
     "metadata": {},
     "output_type": "execute_result"
    }
   ],
   "source": [
    "data_mode = stats.mode(covid_data[\"new_cases\"])\n",
    "data_mode"
   ]
  },
  {
   "cell_type": "markdown",
   "id": "f1bf39d4",
   "metadata": {},
   "source": [
    "### Variance"
   ]
  },
  {
   "cell_type": "code",
   "execution_count": 175,
   "id": "b5e506dd",
   "metadata": {},
   "outputs": [
    {
     "name": "stdout",
     "output_type": "stream",
     "text": [
      "Phương sai: 50380982412.89\n"
     ]
    }
   ],
   "source": [
    "data_variance = np.var(covid_data[\"new_cases\"])\n",
    "print(f\"Phương sai: {data_variance:.2f}\")"
   ]
  },
  {
   "cell_type": "markdown",
   "id": "05e96bd4",
   "metadata": {},
   "source": [
    "### Standard"
   ]
  },
  {
   "cell_type": "code",
   "execution_count": 176,
   "id": "29851900",
   "metadata": {},
   "outputs": [
    {
     "name": "stdout",
     "output_type": "stream",
     "text": [
      "Độ lệch chuẩn: 224457.08\n"
     ]
    }
   ],
   "source": [
    "data_sd = np.std(covid_data[\"new_cases\"])\n",
    "print(f\"Độ lệch chuẩn: {data_sd:.2f}\")\n"
   ]
  },
  {
   "cell_type": "markdown",
   "id": "6a225c20",
   "metadata": {},
   "source": [
    "### Max - Min"
   ]
  },
  {
   "cell_type": "code",
   "execution_count": 177,
   "id": "56eb7ea1",
   "metadata": {},
   "outputs": [
    {
     "name": "stdout",
     "output_type": "stream",
     "text": [
      "Giá trị max: 44236227.0\n",
      "Giá trị min: 0.0\n"
     ]
    }
   ],
   "source": [
    "data_max = np.max(covid_data[\"new_cases\"])\n",
    "data_min = np.min(covid_data[\"new_cases\"])\n",
    "print(f\"Giá trị max: {data_max}\\nGiá trị min: {data_min}\")"
   ]
  },
  {
   "cell_type": "markdown",
   "id": "922e9ca0",
   "metadata": {},
   "source": [
    "### Percentile"
   ]
  },
  {
   "cell_type": "code",
   "execution_count": 178,
   "id": "2f78d0c9",
   "metadata": {},
   "outputs": [
    {
     "name": "stdout",
     "output_type": "stream",
     "text": [
      "Phân vị 60: 0.0\n"
     ]
    }
   ],
   "source": [
    "data_percentile = np.percentile(covid_data[\"new_cases\"], 60)\n",
    "print(f\"Phân vị 60: {data_percentile}\")"
   ]
  },
  {
   "cell_type": "markdown",
   "id": "f787a372",
   "metadata": {},
   "source": [
    "### Quartile"
   ]
  },
  {
   "cell_type": "code",
   "execution_count": 179,
   "id": "64bacff1",
   "metadata": {},
   "outputs": [
    {
     "name": "stdout",
     "output_type": "stream",
     "text": [
      "Tứ phân vị 75: 0.0\n"
     ]
    }
   ],
   "source": [
    "data_quartile_75 = np.quantile(covid_data[\"new_cases\"], 0.75)\n",
    "print(f\"Tứ phân vị 75: {data_quartile_75}\")"
   ]
  },
  {
   "cell_type": "markdown",
   "id": "7293d62c",
   "metadata": {},
   "source": [
    "### INTERQUARTILE RANGE (IQR)"
   ]
  },
  {
   "cell_type": "code",
   "execution_count": 180,
   "id": "ffd6bdc4",
   "metadata": {},
   "outputs": [
    {
     "name": "stdout",
     "output_type": "stream",
     "text": [
      "IQR: 0.0\n"
     ]
    }
   ],
   "source": [
    "data_IQR = stats.iqr(covid_data[\"new_cases\"])\n",
    "print(f\"IQR: {data_IQR}\")"
   ]
  },
  {
   "cell_type": "markdown",
   "id": "8eb4833c",
   "metadata": {},
   "source": [
    "## Kết thúc"
   ]
  }
 ],
 "metadata": {
  "kernelspec": {
   "display_name": "Python 3",
   "language": "python",
   "name": "python3"
  },
  "language_info": {
   "codemirror_mode": {
    "name": "ipython",
    "version": 3
   },
   "file_extension": ".py",
   "mimetype": "text/x-python",
   "name": "python",
   "nbconvert_exporter": "python",
   "pygments_lexer": "ipython3",
   "version": "3.12.10"
  }
 },
 "nbformat": 4,
 "nbformat_minor": 5
}
