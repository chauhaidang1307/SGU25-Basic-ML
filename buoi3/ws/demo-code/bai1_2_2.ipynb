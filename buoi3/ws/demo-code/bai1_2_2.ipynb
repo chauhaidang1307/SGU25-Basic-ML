{
 "cells": [
  {
   "cell_type": "markdown",
   "id": "61495a7e",
   "metadata": {},
   "source": [
    "# Nội dung"
   ]
  },
  {
   "cell_type": "markdown",
   "id": "fad497df",
   "metadata": {},
   "source": [
    "để làm quen với các công cụ trực quan hóa dữ liệu.\n",
    "\n",
    "Dữ liệu thực hiện là dữ liệu về giá nhà.\n",
    "\n",
    "https://www.kaggle.com/datasets/thomasnibb/amsterdam-house-price-prediction"
   ]
  },
  {
   "cell_type": "markdown",
   "id": "7f32ca03",
   "metadata": {},
   "source": [
    "## Bài làm:"
   ]
  },
  {
   "cell_type": "markdown",
   "id": "70498fa2",
   "metadata": {},
   "source": [
    "### Import thư viện cần dùng cho trực quan hóa dữ liệu"
   ]
  },
  {
   "cell_type": "code",
   "execution_count": 26,
   "id": "43c82d1b",
   "metadata": {},
   "outputs": [],
   "source": [
    "import pandas as pd\n",
    "import matplotlib.pyplot as plt\n",
    "import seaborn as sns"
   ]
  },
  {
   "cell_type": "markdown",
   "id": "e598699c",
   "metadata": {},
   "source": [
    "### Chuẩn bị dữ liệu:"
   ]
  },
  {
   "cell_type": "code",
   "execution_count": 27,
   "id": "b9d2d8cb",
   "metadata": {},
   "outputs": [
    {
     "data": {
      "text/html": [
       "<div>\n",
       "<style scoped>\n",
       "    .dataframe tbody tr th:only-of-type {\n",
       "        vertical-align: middle;\n",
       "    }\n",
       "\n",
       "    .dataframe tbody tr th {\n",
       "        vertical-align: top;\n",
       "    }\n",
       "\n",
       "    .dataframe thead th {\n",
       "        text-align: right;\n",
       "    }\n",
       "</style>\n",
       "<table border=\"1\" class=\"dataframe\">\n",
       "  <thead>\n",
       "    <tr style=\"text-align: right;\">\n",
       "      <th></th>\n",
       "      <th>Zip</th>\n",
       "      <th>Price</th>\n",
       "      <th>Area</th>\n",
       "      <th>Room</th>\n",
       "      <th>PricePerSqm</th>\n",
       "    </tr>\n",
       "  </thead>\n",
       "  <tbody>\n",
       "    <tr>\n",
       "      <th>0</th>\n",
       "      <td>1091 CR</td>\n",
       "      <td>685000.0</td>\n",
       "      <td>64</td>\n",
       "      <td>3</td>\n",
       "      <td>10703.125000</td>\n",
       "    </tr>\n",
       "    <tr>\n",
       "      <th>1</th>\n",
       "      <td>1059 EL</td>\n",
       "      <td>475000.0</td>\n",
       "      <td>60</td>\n",
       "      <td>3</td>\n",
       "      <td>7916.666667</td>\n",
       "    </tr>\n",
       "    <tr>\n",
       "      <th>2</th>\n",
       "      <td>1097 SM</td>\n",
       "      <td>850000.0</td>\n",
       "      <td>109</td>\n",
       "      <td>4</td>\n",
       "      <td>7798.165138</td>\n",
       "    </tr>\n",
       "    <tr>\n",
       "      <th>3</th>\n",
       "      <td>1060 TH</td>\n",
       "      <td>580000.0</td>\n",
       "      <td>128</td>\n",
       "      <td>6</td>\n",
       "      <td>4531.250000</td>\n",
       "    </tr>\n",
       "    <tr>\n",
       "      <th>4</th>\n",
       "      <td>1036 KN</td>\n",
       "      <td>720000.0</td>\n",
       "      <td>138</td>\n",
       "      <td>5</td>\n",
       "      <td>5217.391304</td>\n",
       "    </tr>\n",
       "  </tbody>\n",
       "</table>\n",
       "</div>"
      ],
      "text/plain": [
       "       Zip     Price  Area  Room   PricePerSqm\n",
       "0  1091 CR  685000.0    64     3  10703.125000\n",
       "1  1059 EL  475000.0    60     3   7916.666667\n",
       "2  1097 SM  850000.0   109     4   7798.165138\n",
       "3  1060 TH  580000.0   128     6   4531.250000\n",
       "4  1036 KN  720000.0   138     5   5217.391304"
      ]
     },
     "execution_count": 27,
     "metadata": {},
     "output_type": "execute_result"
    }
   ],
   "source": [
    "df = pd.read_csv(\"../data/HousingPrices-Amsterdam-August-2021.csv\")\n",
    "df = df[['Zip','Price','Area','Room']]\n",
    "df['PricePerSqm'] = df['Price']/df['Area']\n",
    "df.head(5)"
   ]
  },
  {
   "cell_type": "code",
   "execution_count": 28,
   "id": "c5e1fc40",
   "metadata": {},
   "outputs": [
    {
     "data": {
      "text/html": [
       "<div>\n",
       "<style scoped>\n",
       "    .dataframe tbody tr th:only-of-type {\n",
       "        vertical-align: middle;\n",
       "    }\n",
       "\n",
       "    .dataframe tbody tr th {\n",
       "        vertical-align: top;\n",
       "    }\n",
       "\n",
       "    .dataframe thead th {\n",
       "        text-align: right;\n",
       "    }\n",
       "</style>\n",
       "<table border=\"1\" class=\"dataframe\">\n",
       "  <thead>\n",
       "    <tr style=\"text-align: right;\">\n",
       "      <th></th>\n",
       "      <th>Zip</th>\n",
       "      <th>Price</th>\n",
       "      <th>Area</th>\n",
       "      <th>Room</th>\n",
       "      <th>PricePerSqm</th>\n",
       "    </tr>\n",
       "  </thead>\n",
       "  <tbody>\n",
       "    <tr>\n",
       "      <th>195</th>\n",
       "      <td>1017 EL</td>\n",
       "      <td>5950000.0</td>\n",
       "      <td>394</td>\n",
       "      <td>10</td>\n",
       "      <td>15101.522843</td>\n",
       "    </tr>\n",
       "    <tr>\n",
       "      <th>837</th>\n",
       "      <td>1075 AH</td>\n",
       "      <td>5850000.0</td>\n",
       "      <td>480</td>\n",
       "      <td>14</td>\n",
       "      <td>12187.500000</td>\n",
       "    </tr>\n",
       "    <tr>\n",
       "      <th>305</th>\n",
       "      <td>1016 AE</td>\n",
       "      <td>4900000.0</td>\n",
       "      <td>623</td>\n",
       "      <td>13</td>\n",
       "      <td>7865.168539</td>\n",
       "    </tr>\n",
       "    <tr>\n",
       "      <th>103</th>\n",
       "      <td>1017 ZP</td>\n",
       "      <td>4550000.0</td>\n",
       "      <td>497</td>\n",
       "      <td>13</td>\n",
       "      <td>9154.929577</td>\n",
       "    </tr>\n",
       "    <tr>\n",
       "      <th>179</th>\n",
       "      <td>1012 JS</td>\n",
       "      <td>4495000.0</td>\n",
       "      <td>178</td>\n",
       "      <td>5</td>\n",
       "      <td>25252.808989</td>\n",
       "    </tr>\n",
       "  </tbody>\n",
       "</table>\n",
       "</div>"
      ],
      "text/plain": [
       "         Zip      Price  Area  Room   PricePerSqm\n",
       "195  1017 EL  5950000.0   394    10  15101.522843\n",
       "837  1075 AH  5850000.0   480    14  12187.500000\n",
       "305  1016 AE  4900000.0   623    13   7865.168539\n",
       "103  1017 ZP  4550000.0   497    13   9154.929577\n",
       "179  1012 JS  4495000.0   178     5  25252.808989"
      ]
     },
     "execution_count": 28,
     "metadata": {},
     "output_type": "execute_result"
    }
   ],
   "source": [
    "df_sort = df.sort_values('Price', ascending=False)\n",
    "df_sort.head(5)"
   ]
  },
  {
   "cell_type": "markdown",
   "id": "beb8f9bb",
   "metadata": {},
   "source": [
    "### Biểu đồ cột của 10 căn nhà có giá cao nhất trong database:"
   ]
  },
  {
   "cell_type": "markdown",
   "id": "91fb0989",
   "metadata": {},
   "source": [
    "Basic"
   ]
  },
  {
   "cell_type": "code",
   "execution_count": 39,
   "id": "660c8ca3",
   "metadata": {},
   "outputs": [
    {
     "data": {
      "image/png": "[encoded data removed]",
      "text/plain": [
       "<Figure size 1000x600 with 1 Axes>"
      ]
     },
     "metadata": {},
     "output_type": "display_data"
    }
   ],
   "source": [
    "plt.figure(figsize= (10,6))\n",
    "x = df_sort['Zip'][0:10]\n",
    "y = df_sort['Price'][0:10]\n",
    "plt.bar(x,y)\n",
    "plt.show()"
   ]
  },
  {
   "cell_type": "markdown",
   "id": "d1a38a54",
   "metadata": {},
   "source": [
    "Adnvance 1"
   ]
  },
  {
   "cell_type": "code",
   "execution_count": 38,
   "id": "4856a04c",
   "metadata": {},
   "outputs": [
    {
     "data": {
      "image/png": "[encoded data removed]",
      "text/plain": [
       "<Figure size 1000x600 with 1 Axes>"
      ]
     },
     "metadata": {},
     "output_type": "display_data"
    }
   ],
   "source": [
    "plt.figure(figsize=(10,6))\n",
    "plt.bar(x,y)\n",
    "plt.title(\"10 căn nhà có giá tiền cao nhất: \")\n",
    "plt.xlabel('Zip Code', fontsize=12)\n",
    "plt.xticks(fontsize=10)\n",
    "plt.ylabel('House prices in million',fontsize=12)\n",
    "plt.yticks(fontsize=10)\n",
    "plt.show()"
   ]
  },
  {
   "cell_type": "code",
   "execution_count": null,
   "id": "844b784b",
   "metadata": {},
   "outputs": [],
   "source": []
  }
 ],
 "metadata": {
  "kernelspec": {
   "display_name": "Python 3",
   "language": "python",
   "name": "python3"
  },
  "language_info": {
   "codemirror_mode": {
    "name": "ipython",
    "version": 3
   },
   "file_extension": ".py",
   "mimetype": "text/x-python",
   "name": "python",
   "nbconvert_exporter": "python",
   "pygments_lexer": "ipython3",
   "version": "3.11.0"
  }
 },
 "nbformat": 4,
 "nbformat_minor": 5
}
