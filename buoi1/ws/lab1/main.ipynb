{
 "cells": [
  {
   "cell_type": "markdown",
   "id": "e8408f71",
   "metadata": {},
   "source": [
    "# ex1_calc"
   ]
  },
  {
   "cell_type": "markdown",
   "id": "61ca3fc3",
   "metadata": {},
   "source": [
    "## Nội dung bài:\n",
    "Thực hiện chương trình cộng 2 số cơ bản"
   ]
  },
  {
   "cell_type": "markdown",
   "id": "d4d40ece",
   "metadata": {},
   "source": [
    "### Tính toán cơ bản:"
   ]
  },
  {
   "cell_type": "code",
   "execution_count": 2,
   "id": "20b1353f",
   "metadata": {},
   "outputs": [
    {
     "name": "stdout",
     "output_type": "stream",
     "text": [
      "Basic calculator:\n",
      "a + b = 30\n"
     ]
    }
   ],
   "source": [
    "%run ex1_calc.py"
   ]
  },
  {
   "cell_type": "markdown",
   "id": "d9e53d55",
   "metadata": {},
   "source": [
    "### code:"
   ]
  },
  {
   "cell_type": "code",
   "execution_count": null,
   "id": "a8419d0c",
   "metadata": {},
   "outputs": [],
   "source": [
    "print(\"Basic calculator:\")\n",
    "a = int(input(\"Mời bạn nhập só a: \"))\n",
    "b = int(input(\"Mời bạn nhập só b: \"))\n",
    "print(f\"a + b = {a+b}\")"
   ]
  },
  {
   "cell_type": "markdown",
   "id": "43ca92b5",
   "metadata": {},
   "source": [
    "# Kết thúc"
   ]
  }
 ],
 "metadata": {
  "kernelspec": {
   "display_name": "Python 3",
   "language": "python",
   "name": "python3"
  },
  "language_info": {
   "codemirror_mode": {
    "name": "ipython",
    "version": 3
   },
   "file_extension": ".py",
   "mimetype": "text/x-python",
   "name": "python",
   "nbconvert_exporter": "python",
   "pygments_lexer": "ipython3",
   "version": "3.11.0"
  }
 },
 "nbformat": 4,
 "nbformat_minor": 5
}
